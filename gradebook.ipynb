{
 "cells": [
  {
   "cell_type": "code",
   "execution_count": 42,
   "id": "660ea3d6-8f6a-44a9-ad5b-72a1bde980ae",
   "metadata": {},
   "outputs": [
    {
     "name": "stdout",
     "output_type": "stream",
     "text": [
      "[('physics', 98), ('calculus', 97), ('poetry', 85), ('history', 88)]\n",
      "[('physics', 98), ('calculus', 97), ('poetry', 85), ('history', 88), ('computer science', 100)]\n",
      "[('physics', 98), ('calculus', 97), ('poetry', 85), ('history', 88), ('computer science', 100), ('visual arts', 93)]\n",
      "[('physics', 98), ('calculus', 97), ('poetry', 'pass'), ('history', 88), ('computer science', 100), ('visual arts', 93)]\n",
      "[['politics', 80], ['latin', 96], ['dance', 97], ['architecture', 65]]\n"
     ]
    }
   ],
   "source": [
    "subjects = ['physics', 'calculus', 'poetry', 'history']\n",
    "grades = [98, 97, 85, 88]\n",
    "gradebook=list(zip(subjects, grades))\n",
    "print(list(gradebook))\n",
    "\n",
    "subjects.append(\"computer science\")\n",
    "grades.append(100)\n",
    "gradebook = zip(subjects, grades)\n",
    "print(list(gradebook))\n",
    "subjects.append(\"visual arts\")\n",
    "grades.append(93)\n",
    "gradebook = zip(subjects, grades)\n",
    "print(list(gradebook))\n",
    "\n",
    "grades.remove(85)\n",
    "grades.insert(2,\"pass\")\n",
    "gradebook = zip(subjects, grades)\n",
    "print(list(gradebook))\n",
    "\n",
    "last_semester_gradebook = [[\"politics\", 80], [\"latin\", 96], [\"dance\", 97], [\"architecture\", 65]]\n",
    "full_gradebook = last_semester_gradebook + list(gradebook)\n",
    "print(full_gradebook)"
   ]
  },
  {
   "cell_type": "code",
   "execution_count": null,
   "id": "b97cb09f-2500-4881-8d91-f14d57fbc9c0",
   "metadata": {},
   "outputs": [],
   "source": []
  }
 ],
 "metadata": {
  "kernelspec": {
   "display_name": "Python 3 (ipykernel)",
   "language": "python",
   "name": "python3"
  },
  "language_info": {
   "codemirror_mode": {
    "name": "ipython",
    "version": 3
   },
   "file_extension": ".py",
   "mimetype": "text/x-python",
   "name": "python",
   "nbconvert_exporter": "python",
   "pygments_lexer": "ipython3",
   "version": "3.9.12"
  }
 },
 "nbformat": 4,
 "nbformat_minor": 5
}
